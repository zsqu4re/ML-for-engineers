{
 "cells": [
  {
   "cell_type": "markdown",
   "metadata": {},
   "source": [
    "# M12-L1 Problem 2\n",
    "\n",
    "Sometimes the dimensionality is greater than the number of samples. For example,in this problem X has 19 features, but there are only 4 data points. You will need to use the alternate PCA formulation in this case. Follow the steps in the cells below to implement this method."
   ]
  },
  {
   "cell_type": "code",
   "execution_count": 303,
   "metadata": {},
   "outputs": [],
   "source": [
    "import numpy as np\n",
    "import matplotlib.pyplot as plt\n",
    "\n",
    "X = np.array([  [-2,  1,  2, -3,  4,  1,  0,  3,  0,  2,  1,  1,  2,  3, -2, -3, 2,  1,  0],\n",
    "                [ 1,  2, -4,  2, -4,  2,  5,  2,  2,  1, -3,  0,  0,  1, -2,  1, 1, -3, -2],\n",
    "                [ 1, -3,  2,  1,  0, -3, -5, -1,  3,  3, -2, -3, -2, -1,  1,  0, 5,  4,  2],\n",
    "                [ 3, -1,  0,  2,  2, -5, -4, -1,  2, -1,  3,  4,  4,  2,  1,  2, -2,  1, -1]])\n"
   ]
  },
  {
   "cell_type": "markdown",
   "metadata": {},
   "source": [
    "## Computing Principal Components\n",
    "\n",
    "### The A matrix\n",
    "\n",
    "First, you should compute the `A` matrix, where A is $(X-\\mu)'$. (Note the transpose)\n",
    "\n",
    "Print this matrix below. It should have size $19\\times 4$."
   ]
  },
  {
   "cell_type": "code",
   "execution_count": 304,
   "metadata": {},
   "outputs": [
    {
     "name": "stdout",
     "output_type": "stream",
     "text": [
      "A = \n",
      " [[-2.75  0.25  0.25  2.25]\n",
      " [ 1.25  2.25 -2.75 -0.75]\n",
      " [ 2.   -4.    2.    0.  ]\n",
      " [-3.5   1.5   0.5   1.5 ]\n",
      " [ 3.5  -4.5  -0.5   1.5 ]\n",
      " [ 2.25  3.25 -1.75 -3.75]\n",
      " [ 1.    6.   -4.   -3.  ]\n",
      " [ 2.25  1.25 -1.75 -1.75]\n",
      " [-1.75  0.25  1.25  0.25]\n",
      " [ 0.75 -0.25  1.75 -2.25]\n",
      " [ 1.25 -2.75 -1.75  3.25]\n",
      " [ 0.5  -0.5  -3.5   3.5 ]\n",
      " [ 1.   -1.   -3.    3.  ]\n",
      " [ 1.75 -0.25 -2.25  0.75]\n",
      " [-1.5  -1.5   1.5   1.5 ]\n",
      " [-3.    1.    0.    2.  ]\n",
      " [ 0.5  -0.5   3.5  -3.5 ]\n",
      " [ 0.25 -3.75  3.25  0.25]\n",
      " [ 0.25 -1.75  2.25 -0.75]]\n"
     ]
    }
   ],
   "source": [
    "# YOUR CODE GOES HERE\n",
    "M = np.mean(X,axis = 0)\n",
    "A = (X - M).T\n",
    "print(\"A = \\n\", A)"
   ]
  },
  {
   "cell_type": "markdown",
   "metadata": {},
   "source": [
    "### \"Small\" covariance matrix\n",
    "\n",
    "By transposing $X-\\mu$ to get $A$, now we can compute a smaller covariance matrix with $A' A$. Compute this matrix, `C`, below and print the result."
   ]
  },
  {
   "cell_type": "code",
   "execution_count": 305,
   "metadata": {},
   "outputs": [
    {
     "name": "stdout",
     "output_type": "stream",
     "text": [
      "C = \n",
      " [[ 69.875 -18.875 -26.375 -24.625]\n",
      " [-18.875 121.375 -53.125 -49.375]\n",
      " [-26.375 -53.125  98.375 -18.875]\n",
      " [-24.625 -49.375 -18.875  92.875]]\n"
     ]
    }
   ],
   "source": [
    "# YOUR CODE GOES HERE\n",
    "C = A.T@A \n",
    "print(\"C = \\n\", C)\n",
    "\n"
   ]
  },
  {
   "cell_type": "markdown",
   "metadata": {},
   "source": [
    "### Finding nonzero eigenvectors\n",
    "Next, find the useful (nonzero) eigenvectors of `C`. \n",
    "\n",
    "For validation purposes, there should be 3 useful eigenvectors, and the first one is `[-0.06628148 -0.79038331 0.47285044 0.38381435]`. \n",
    "\n",
    "Keep these eigenvectors in a $4\\times 3$ array `e`."
   ]
  },
  {
   "cell_type": "code",
   "execution_count": 306,
   "metadata": {},
   "outputs": [
    {
     "name": "stdout",
     "output_type": "stream",
     "text": [
      "[[-0.06628148 -0.86249959  0.04124587]\n",
      " [-0.79038331  0.34733208 -0.06822502]\n",
      " [ 0.47285044  0.22046165 -0.69123739]\n",
      " [ 0.38381435  0.29470586  0.71821654]]\n"
     ]
    }
   ],
   "source": [
    "# YOUR CODE GOES HERE\n",
    "e = np.linalg.eig(C)[1][:,1:]\n",
    "\n",
    "print(e)"
   ]
  },
  {
   "cell_type": "markdown",
   "metadata": {},
   "source": [
    "### Calculating \"eigenfaces\"\n",
    "\n",
    "Now, we have all we need to compute `U`, the matrix of eigenfaces.\n",
    "\n",
    "$\\bf{U}_i = \\bf{A} \\bf{e}_i$  \n",
    "\n",
    "$(19 \\times 3) = (19 \\times 4)(4 \\times 3)$\n",
    "\n",
    "Compute and print U. Be sure to normalize your eigenvectors `e` before using the above equation."
   ]
  },
  {
   "cell_type": "code",
   "execution_count": 307,
   "metadata": {},
   "outputs": [
    {
     "name": "stdout",
     "output_type": "stream",
     "text": [
      "Eigenfaces, U:\n",
      " [[ 0.07294372  0.33008441  0.12277459]\n",
      " [-0.26034151 -0.11677714  0.11787331]\n",
      " [ 0.29998485 -0.27776956 -0.09606164]\n",
      " [-0.01067529  0.42516696  0.04536213]\n",
      " [ 0.27653993 -0.44157072  0.17530224]\n",
      " [-0.37621372 -0.23925816 -0.15082188]\n",
      " [-0.59257956 -0.05657115  0.02265222]\n",
      " [-0.19897063 -0.250194   -0.0037123 ]\n",
      " [ 0.04569305  0.20213547 -0.07236581]\n",
      " [ 0.0084373  -0.10504274 -0.25979087]\n",
      " [ 0.18948616 -0.1518308   0.35382298]\n",
      " [ 0.00380575 -0.03585222  0.46650428]\n",
      " [ 0.03449119 -0.10256065  0.40571147]\n",
      " [-0.05241297 -0.19442141  0.20419008]\n",
      " [ 0.19396809  0.16057937  0.00756997]\n",
      " [ 0.01329023  0.36617258  0.11639359]\n",
      " [ 0.0508452  -0.08985059 -0.45626561]\n",
      " [ 0.3456779  -0.07563409 -0.16842745]\n",
      " [ 0.16171488 -0.0569842  -0.18371276]]\n"
     ]
    }
   ],
   "source": [
    "# YOUR CODE GOES HERE\n",
    "\n",
    "# e = e/np.linalg.norm(e,axis = 0)\n",
    "\n",
    "U = A@e\n",
    "U/= np.linalg.norm(U,axis = 0)\n",
    "print(\"Eigenfaces, U:\\n\",U)\n",
    "\n"
   ]
  },
  {
   "cell_type": "markdown",
   "metadata": {},
   "source": [
    "## Projecting data into 3D\n",
    "\n",
    "Now project your data into 3 dimensions with the formula: \n",
    "\n",
    "$\\Omega = U^\\text{T} A $  \n",
    "\n",
    "$(3 \\times 4) = (3 \\times 19)(19 \\times 4)$\n",
    "\n",
    "Call the projected data $\\Omega$ \"`W`\". Print `W.T`"
   ]
  },
  {
   "cell_type": "code",
   "execution_count": 308,
   "metadata": {},
   "outputs": [
    {
     "name": "stdout",
     "output_type": "stream",
     "text": [
      "Projected data in 3 dimensions:\n",
      " [[ -0.8782013   -8.3011616    0.44099733]\n",
      " [-10.47224127   3.34291139  -0.72945617]\n",
      " [  6.26506632   2.12184196  -7.39065157]\n",
      " [  5.08537624   2.83640825   7.67911041]]\n"
     ]
    }
   ],
   "source": [
    "# YOUR CODE GOES HERE\n",
    "W = U.T@A\n",
    "print('Projected data in 3 dimensions:\\n',W.T)"
   ]
  },
  {
   "cell_type": "markdown",
   "metadata": {},
   "source": [
    "## Reconstructing data in 19-D\n",
    "\n",
    "We can project the transformed data `W` back into the original 19-D space using:\n",
    "\n",
    "$\\Gamma_f = U \\Omega + \\Psi$   \n",
    "where:  \n",
    "$\\Gamma_f = $ reconstructed data  \n",
    "$U = $ eigenfaces  \n",
    "$\\Omega = $ Reduced data  \n",
    "$\\Psi = $ Means  \n",
    "\n",
    "Do this, and compute the MSE between each reconstructed sample and corresponding original points. Report all 4 MSE values.\n",
    "\n",
    "\n"
   ]
  },
  {
   "cell_type": "code",
   "execution_count": 309,
   "metadata": {},
   "outputs": [
    {
     "name": "stdout",
     "output_type": "stream",
     "text": [
      "MSE for sample 1: 4.714677e-31\n",
      "MSE for sample 2: 1.358936e-30\n",
      "MSE for sample 3: 1.862960e-30\n",
      "MSE for sample 4: 7.642090e-31\n"
     ]
    }
   ],
   "source": [
    "# YOUR CODE GOES HERE\n",
    "\n",
    "M = M.reshape(-1,1)\n",
    "Tau = np.dot(U,W) + M\n",
    "MSE = np.mean((X - Tau.T)**2,axis=0)\n",
    "\n",
    "for i in range(4):\n",
    "    print(\"MSE for sample %d: %e\" %(i+1,MSE[i]))"
   ]
  },
  {
   "cell_type": "markdown",
   "metadata": {},
   "source": [
    "## 2-D Reconstruction\n",
    "\n",
    "\n",
    "What if we had only used the first 2 eigenvectors to compute the eigenfaces?\n",
    "Below, redo the earlier calculations, but use only two eigenfaces. Compute the 4 MSE values that you would get in this case.\n",
    "\n",
    "(You should get an MSE of 3.626 for the first sample.)"
   ]
  },
  {
   "cell_type": "code",
   "execution_count": null,
   "metadata": {},
   "outputs": [
    {
     "name": "stdout",
     "output_type": "stream",
     "text": [
      "Using only 2 eigenvectors:\n",
      "MSE for sample 1: 2.501021e+00\n",
      "MSE for sample 2: 1.435139e+00\n",
      "MSE for sample 3: 2.966707e+00\n",
      "MSE for sample 4: 3.228225e+00\n"
     ]
    }
   ],
   "source": [
    "# YOUR CODE GOES HERE\n",
    "e2 = np.linalg.eig(C)[1][:,0:2]\n",
    "# e2 = e[:,:2]\n",
    "U2= A@e2\n",
    "U2/= np.linalg.norm(U2,axis = 0)\n",
    "\n",
    "W2 = U2.T@A\n",
    "M = M.reshape(-1,1)\n",
    "Tau2 = np.dot(U2,W2) + M\n",
    "MSE2 = np.mean((X - Tau2.T)**2,axis=0)\n",
    "\n",
    "print(\"Using only 2 eigenvectors:\")\n",
    "for i in range(4):\n",
    "    print(\"MSE for sample %d: %e\" %(i+1,MSE2[i]))"
   ]
  },
  {
   "cell_type": "code",
   "execution_count": null,
   "metadata": {},
   "outputs": [],
   "source": []
  }
 ],
 "metadata": {
  "kernelspec": {
   "display_name": "Python 3",
   "language": "python",
   "name": "python3"
  },
  "language_info": {
   "codemirror_mode": {
    "name": "ipython",
    "version": 3
   },
   "file_extension": ".py",
   "mimetype": "text/x-python",
   "name": "python",
   "nbconvert_exporter": "python",
   "pygments_lexer": "ipython3",
   "version": "3.11.9"
  },
  "orig_nbformat": 4
 },
 "nbformat": 4,
 "nbformat_minor": 2
}
