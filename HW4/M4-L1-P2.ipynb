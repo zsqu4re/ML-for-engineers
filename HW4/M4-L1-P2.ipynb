{
 "cells": [
  {
   "attachments": {},
   "cell_type": "markdown",
   "metadata": {},
   "source": [
    "# M4-L1 Problem 2 \n",
    "\n",
    "The UCI Machine Learning Repository (https://archive.ics.uci.edu/ml/index.php) contains hundreds of public datasets donated by researchers to test machine learning/statistical methods.\n",
    "Here we will look at a curated version of one of these datasets and try to perform classification using SVM.\n",
    "\n",
    "Tsanas and Xifara, cited below, performed simulations of buildings using a program called Ecotect. They modified 8 building features, and measured energy efficiency with 2 metrics: heating load requirement and cooling load requirement. For the purpose of demonstration, we have truncated the dataset to only look at a subset of the data points and building attributes.\n",
    "\n",
    "You will be training an SVM (with sklearn) to use \"relative compactness\" and \"wall area\" to classify whether \"heating load\" is high (>20) or low (<=20).\n",
    "\n",
    "\n",
    "\n",
    "```\n",
    "Dataset source:\n",
    "A. Tsanas, A. Xifara: 'Accurate quantitative estimation of energy performance of residential buildings using statistical machine learning tools', Energy and Buildings, Vol. 49, pp. 560-567, 2012\n",
    "```\n",
    "\n",
    "\n",
    "Run the following cell to perform the necessary imports and load the data:"
   ]
  },
  {
   "cell_type": "code",
   "execution_count": null,
   "metadata": {},
   "outputs": [],
   "source": [
    "import numpy as np\n",
    "import pandas as pd\n",
    "import matplotlib.pyplot as plt\n",
    "from sklearn.svm import SVC\n",
    "from matplotlib.colors import ListedColormap\n",
    "\n",
    "def plot_data(x,y,e=0.1):\n",
    "    x1min, x1max = min(x[:,0]), max(x[:,0])\n",
    "    x2min, x2max = min(x[:,1]), max(x[:,1])\n",
    "    \n",
    "    xb = np.linspace(x1min,x1max)\n",
    "\n",
    "    cmap = ListedColormap([\"blue\",\"red\"])\n",
    "    \n",
    "\n",
    "    plt.scatter(x[:,0],x[:,1],c=y,cmap=cmap)\n",
    "    plt.colorbar()\n",
    "\n",
    "    plt.xlabel('$x_1$')\n",
    "    plt.ylabel('$x_2$')\n",
    "    plt.axis((x1min-e,x1max+e,x2min-e,x2max+e))\n",
    "\n",
    "\n",
    "def plot_SV_decision_boundary(svm, extend=True):\n",
    "    ax = plt.gca()\n",
    "    xlim = ax.get_xlim()\n",
    "    ylim = ax.get_ylim()\n",
    "\n",
    "    xrange = xlim[1] - xlim[0]\n",
    "    yrange = ylim[1] - ylim[0]\n",
    "\n",
    "    x = np.linspace(xlim[0] - extend*xrange, xlim[1] + extend*xrange, 100)\n",
    "    y = np.linspace(ylim[0] - extend*yrange, ylim[1] + extend*yrange, 100)\n",
    "\n",
    "    X,Y = np.meshgrid(x,y)\n",
    "    xy = np.vstack([X.ravel(), Y.ravel()]).T\n",
    "    P = svm.decision_function(xy)\n",
    "\n",
    "    P = P.reshape(X.shape)\n",
    "    ax.contour(X, Y, P, colors='k',levels=[0],linestyles=['-'])\n",
    "    ax.contour(X, Y, P, colors='k',levels=[-1, 1], alpha=0.6,linestyles=['--'])\n",
    "\n",
    "    plt.xlim(xlim)\n",
    "    plt.ylim(ylim)\n",
    "\n",
    "relative_compactness = np.array([0.98, 0.9 , 0.86, 0.82, 0.79, 0.76, 0.74, 0.71, 0.69, 0.66, 0.64,\n",
    "       0.62])\n",
    "wall_area = np.array([294. , 318.5, 294. , 318.5, 343. , 416.5, 245. , 269.5, 294. ,\n",
    "       318.5, 343. , 367.5])\n",
    "heating_load = np.array([24.58, 29.03, 26.28, 23.53, 35.56, 32.96, 10.36, 10.71, 11.11,\n",
    "       11.68, 15.41, 12.96])\n"
   ]
  },
  {
   "attachments": {},
   "cell_type": "markdown",
   "metadata": {},
   "source": [
    "## Train an SVM in sklearn\n",
    "\n",
    "Perform the following steps:\n",
    "- Combine `relative_compactness` and `wall_area` into one 2-column input feature array\n",
    "- Transform `heating_load` into an array of classes with -1 where `heating_load` entries are less than 20, and +1 otherwise.\n",
    "- Create a Support Vector Classification model in sklearn. Make sure to use a \"linear\" kernel! Also set the argument \"C\" to a large number, like `1e5`.\n",
    "- Fit the SVC to your data"
   ]
  },
  {
   "cell_type": "code",
   "execution_count": null,
   "metadata": {},
   "outputs": [],
   "source": [
    "\n",
    "# YOUR CODE GOES HERE\n"
   ]
  },
  {
   "attachments": {},
   "cell_type": "markdown",
   "metadata": {},
   "source": [
    "## Plotting results\n",
    "\n",
    "You can make predictions on any X data using the `.predict(X)` method of your SVC model.\n",
    "The `.decision_function()` method will return a continuous class evaluation, 0 at the boundary and 1 or -1 at the margin edges.\n",
    "\n",
    "Now use the provided function `plot_SV_decision_boundary()`, which takes an sklearn model as its input, to plot the decision boundary."
   ]
  },
  {
   "cell_type": "code",
   "execution_count": null,
   "metadata": {},
   "outputs": [],
   "source": [
    "plt.figure(figsize=(6,4),dpi=150)\n",
    "plot_data(X,y)\n",
    "\n",
    "# YOUR CODE GOES HERE\n",
    "\n",
    "plt.xlabel(\"Relative Compactness\")\n",
    "plt.ylabel(\"Wall Area\")\n",
    "plt.title(\"Heating Load High/Low\")\n",
    "plt.show()\n"
   ]
  }
 ],
 "metadata": {
  "kernelspec": {
   "display_name": "torch_env",
   "language": "python",
   "name": "python3"
  },
  "language_info": {
   "codemirror_mode": {
    "name": "ipython",
    "version": 3
   },
   "file_extension": ".py",
   "mimetype": "text/x-python",
   "name": "python",
   "nbconvert_exporter": "python",
   "pygments_lexer": "ipython3",
   "version": "3.9.7"
  },
  "orig_nbformat": 4
 },
 "nbformat": 4,
 "nbformat_minor": 2
}
