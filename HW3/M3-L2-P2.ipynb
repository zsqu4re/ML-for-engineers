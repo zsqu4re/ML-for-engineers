{
 "cells": [
  {
   "cell_type": "markdown",
   "metadata": {},
   "source": [
    "# M3-L2 Problem 2 (6 points)"
   ]
  },
  {
   "cell_type": "code",
   "execution_count": 29,
   "metadata": {},
   "outputs": [],
   "source": [
    "import numpy as np\n",
    "import matplotlib.pyplot as plt\n",
    "from matplotlib.colors import ListedColormap\n",
    "from sklearn.linear_model import LogisticRegression\n"
   ]
  },
  {
   "attachments": {},
   "cell_type": "markdown",
   "metadata": {},
   "source": [
    "# One-vs-All (One-vs-Rest) Multinomial Classification\n",
    "\n",
    "## Load Dataset\n",
    "#### (Don't edit this)\n",
    "- (x,y) values are stored in rows of `xy`\n",
    "- class values are in `c`"
   ]
  },
  {
   "cell_type": "code",
   "execution_count": 30,
   "metadata": {},
   "outputs": [],
   "source": [
    "x = np.array([7.4881350392732475,16.351893663724194,22.427633760716436,29.04883182996897,35.03654799338904,44.45894113066656,6.375872112626925,18.117730007820796,26.036627605010292,27.434415188257777,38.71725038082664,43.28894919752904,7.680445610939323,18.45596638292661,17.110360581978867,24.47129299701541,31.002183974403255,46.32619845547938,9.781567509498505,17.90012148246819,26.186183422327638,31.59158564216724,35.41479362252932,45.805291762864556,3.182744258689332,15.599210213275237,17.833532874090462,33.04668917049584,36.018483217500716,42.146619399905234,4.64555612104627,16.942336894342166,20.961503322165484,29.284339488686488,30.98789800436355,44.17635497075877,])\n",
    "y = np.array([0.11120957227224215,0.1116933996874757,0.14437480785146242,0.11818202991034835,0.0859507900573786,0.09370319537993416,0.2797631195927265,0.216022547162927,0.27667667154456677,0.27706378696181594,0.2310382561073841,0.22289262976548535,0.40154283509241845,0.4063710770942623,0.427019677041788,0.41386015134623205,0.46883738380592266,0.38020448107480287,0.5508876756094834,0.5461309517884996,0.5953108325465398,0.5553291602539782,0.5766310772856306,0.5544425592001603,0.705896958364552,0.7010375141164304,0.7556329589465274,0.7038182951348614,0.7096582361680054,0.7268725170660963,0.9320993229847936,0.8597101275793062,0.9337944907498804,0.8596098407893963,0.9476459465013396,0.8968651201647702,])\n",
    "xy = np.vstack([x,y]).T\n",
    "c = np.array([0,2,2,2,2,2,0,2,2,2,2,2,0,0,2,0,1,2,0,0,1,1,1,2,0,1,0,1,1,1,0,0,1,1,1,1,])"
   ]
  },
  {
   "attachments": {},
   "cell_type": "markdown",
   "metadata": {},
   "source": [
    "## Binomial classification function\n",
    "\n",
    "You are given a function that performs binomial classification by using sklearn's `LogisticRegression` tool:\n",
    "`prob = get_ovr_prob_function(xy, c, A)`\n",
    "\n",
    "To use it, input:\n",
    "- `xy`, an array in which each row contains (x,y) coordinates of data points\n",
    "- `c`, an array that specifies the class each point in `xy` belongs to\n",
    "- `A`, the class of the group (0, 1, or 2 in this problem) -- classifies into A or \"rest\"\n",
    "\n",
    "The function outputs a probability function (`prob()` in this case), used to determine the probability that each `xy` is class A or [not A], such as by using `prob(xy)`."
   ]
  },
  {
   "cell_type": "code",
   "execution_count": 31,
   "metadata": {},
   "outputs": [],
   "source": [
    "def get_ovr_prob_function(xy, c, A):\n",
    "    c_new = (c == A).astype(int)\n",
    "    \n",
    "    model = LogisticRegression()\n",
    "    model.fit(xy,c_new)\n",
    "\n",
    "    def prob(xy):\n",
    "        pred = model.predict_proba(xy)[:,1]\n",
    "        return pred.flatten()\n",
    "    \n",
    "    return prob\n"
   ]
  },
  {
   "attachments": {},
   "cell_type": "markdown",
   "metadata": {},
   "source": [
    "## Coding an OvR classifier\n",
    "\n",
    "Now you will create a one-vs-rest classifier to do multinomial classification. Binomial predictions will be made for each class vs. the rest of the classes. The class whose binomial prediction gives the highest probability is the selected class.\n",
    "\n",
    "Complete the two functions we have started:\n",
    "- `generate_ovr_prob_functions(xy, c)` which returns a list of binary classifier probability functions for all possible classes (0, 1, and 2 in this problem)\n",
    "- `classify_ovr(probs, xy)` which loops through a list of ovr classifier probabilities and gets the probability of belonging to each class, for each point in `xy`. Then taking the highest probability for each, return the overall class predictions for each point.\n"
   ]
  },
  {
   "cell_type": "code",
   "execution_count": 32,
   "metadata": {},
   "outputs": [],
   "source": [
    "def generate_ovr_prob_functions(xy, c):\n",
    "    # YOUR CODE GOES HERE\n",
    "    classify0 = get_ovr_prob_function(xy, c, 0)\n",
    "    classify1 = get_ovr_prob_function(xy, c, 1)\n",
    "    classify2 = get_ovr_prob_function(xy, c, 2)\n",
    "    \n",
    "    probs = np.array([classify0,classify1,classify2])\n",
    "    return probs\n",
    "\n",
    "\n",
    "\n",
    "def classify_ovr(probs, xy):\n",
    "    # YOUR CODE GOES HERE\n",
    "\n",
    "    preds = np.array([])\n",
    "    n = xy.shape[0]\n",
    "    for i in probs:\n",
    "        preds = np.append(preds,np.array([i(xy)]))   \n",
    "        # print(np.array([i(xy)]))\n",
    "    preds = preds.reshape(3,n)\n",
    "    print(preds.T)\n",
    "    \n",
    "    final_preds = np.zeros(n)\n",
    "    \n",
    "    for i in range(preds.shape[1]):\n",
    "        max_index = np.where(preds[:,i] == np.max(preds[:,i]))\n",
    "        match max_index:\n",
    "            case 0:\n",
    "                final_preds[i] = 0 \n",
    "            case 1:\n",
    "                final_preds[i] = 1\n",
    "            case 2:\n",
    "                final_preds[i] = 2\n",
    "\n",
    "    return final_preds\n"
   ]
  },
  {
   "attachments": {},
   "cell_type": "markdown",
   "metadata": {},
   "source": [
    "### Trying out our multinomial classifier:"
   ]
  },
  {
   "cell_type": "code",
   "execution_count": 33,
   "metadata": {},
   "outputs": [
    {
     "name": "stdout",
     "output_type": "stream",
     "text": [
      "[[9.44377327e-01 6.04608510e-02 2.40191467e-01]\n",
      " [5.67689037e-01 1.03762444e-01 3.69286440e-01]\n",
      " [1.86783178e-01 1.55401898e-01 4.54650451e-01]\n",
      " [3.25468452e-02 2.13499497e-01 5.83032838e-01]\n",
      " [5.86988679e-03 2.75217815e-01 6.94479367e-01]\n",
      " [3.89444756e-04 4.18137640e-01 8.11667244e-01]\n",
      " [9.61217337e-01 7.58052398e-02 1.69503911e-01]\n",
      " [4.49629158e-01 1.36631730e-01 3.46345939e-01]\n",
      " [7.81006462e-02 2.30430261e-01 4.46918193e-01]\n",
      " [5.35572788e-02 2.47370466e-01 4.70883567e-01]\n",
      " [2.13788459e-03 3.88739281e-01 6.83000715e-01]\n",
      " [5.70304607e-04 4.58730458e-01 7.50901698e-01]\n",
      " [9.46583706e-01 1.01016353e-01 1.46989302e-01]\n",
      " [4.41428035e-01 1.87846106e-01 2.65381650e-01]\n",
      " [5.39966781e-01 1.80295421e-01 2.39392250e-01]\n",
      " [1.22396020e-01 2.58827580e-01 3.50874846e-01]\n",
      " [2.10970873e-02 3.73582879e-01 4.31008382e-01]\n",
      " [2.50305435e-04 5.81906620e-01 7.26899391e-01]\n",
      " [9.10403390e-01 1.45940835e-01 1.26631405e-01]\n",
      " [4.93122590e-01 2.24673139e-01 2.04982833e-01]\n",
      " [8.28912878e-02 3.54754240e-01 2.92485357e-01]\n",
      " [1.83751986e-02 4.21743796e-01 3.96172524e-01]\n",
      " [6.21191278e-03 4.94317854e-01 4.50006389e-01]\n",
      " [3.08607419e-04 6.50907170e-01 6.38873365e-01]\n",
      " [9.86301557e-01 1.28696197e-01 6.16982476e-02]\n",
      " [6.65836864e-01 2.49695257e-01 1.36273064e-01]\n",
      " [5.15665428e-01 2.99432738e-01 1.40929638e-01]\n",
      " [1.27661011e-02 5.14801011e-01 3.45863325e-01]\n",
      " [5.46273398e-03 5.66301585e-01 3.91084968e-01]\n",
      " [9.40482887e-04 6.69180571e-01 4.86832020e-01]\n",
      " [9.80751221e-01 1.99186017e-01 4.29789353e-02]\n",
      " [5.87901020e-01 3.28781635e-01 1.09878559e-01]\n",
      " [3.14263284e-01 4.23401951e-01 1.22358045e-01]\n",
      " [3.88338883e-02 5.25627427e-01 2.25811534e-01]\n",
      " [2.48196648e-02 5.93984485e-01 2.13910993e-01]\n",
      " [5.54582315e-04 7.60910682e-01 4.31820689e-01]]\n",
      "True Classes: [0 2 2 2 2 2 0 2 2 2 2 2 0 0 2 0 1 2 0 0 1 1 1 2 0 1 0 1 1 1 0 0 1 1 1 1]\n",
      " Predictions: [0.94437733 0.56768904 0.45465045 0.58303284 0.69447937 0.81166724\n",
      " 0.96121734 0.44962916 0.44691819 0.47088357 0.68300072 0.7509017\n",
      " 0.94658371 0.44142803 0.53996678 0.35087485 0.43100838 0.72689939\n",
      " 0.91040339 0.49312259 0.35475424 0.4217438  0.49431785 0.65090717\n",
      " 0.98630156 0.66583686 0.51566543 0.51480101 0.56630158 0.66918057\n",
      " 0.98075122 0.58790102 0.42340195 0.52562743 0.59398449 0.76091068]\n",
      "    Accuracy: 0.0 %\n"
     ]
    }
   ],
   "source": [
    "probs = generate_ovr_prob_functions(xy, c)\n",
    "preds = classify_ovr(probs, xy)\n",
    "accuracy = np.sum(preds == c) / len(c) * 100\n",
    "print(\"True Classes:\", c)\n",
    "print(\" Predictions:\", preds)\n",
    "print(\"    Accuracy:\", accuracy, r\"%\")"
   ]
  },
  {
   "attachments": {},
   "cell_type": "markdown",
   "metadata": {},
   "source": [
    "### Plotting multnomial classifier results\n",
    "\n",
    "Here, we have made some plotting functions -- run these cells to visualize the decision boundaries."
   ]
  },
  {
   "cell_type": "code",
   "execution_count": 34,
   "metadata": {},
   "outputs": [],
   "source": [
    "def plot_data(x, y, c, title=\"Phase of simulated material\", newfig=True):\n",
    "    xlim = [0,52.5]\n",
    "    ylim = [0,1.05]\n",
    "    markers = [dict(marker=\"o\", color=\"royalblue\"), dict(marker=\"s\", color=\"crimson\"), dict(marker=\"^\", color=\"limegreen\")]\n",
    "    labels = [\"Solid\", \"Liquid\", \"Vapor\"]\n",
    "\n",
    "    if newfig:\n",
    "        plt.figure(dpi=150)\n",
    "\n",
    "    for i in range(1+max(c)):\n",
    "        plt.scatter(x[c==i], y[c==i], s=60, **(markers[i]), edgecolor=\"black\", linewidths=0.4,label=labels[i])\n",
    "\n",
    "    plt.title(title)\n",
    "    plt.legend(loc=\"upper right\")\n",
    "    plt.xlim(xlim)\n",
    "    plt.ylim(ylim)\n",
    "    plt.xlabel(\"Temperature, K\")\n",
    "    plt.ylabel(\"Pressure, atm\")\n",
    "    plt.box(True)\n",
    "\n",
    "def plot_ovr_colors(probs, res=40):\n",
    "    xlim = [0,52.5]\n",
    "    ylim = [0,1.05]\n",
    "    xvals = np.linspace(*xlim,res)\n",
    "    yvals = np.linspace(*ylim,res)\n",
    "    x,y = np.meshgrid(xvals,yvals)\n",
    "    XY = np.concatenate((x.reshape(-1,1),y.reshape(-1,1)),axis=1)\n",
    "\n",
    "    color = classify_ovr(probs,XY).reshape(res,res)\n",
    "\n",
    "    cmap = ListedColormap([\"lightblue\",\"lightcoral\",\"palegreen\"])\n",
    "    plt.pcolor(x, y, color, shading=\"nearest\", zorder=-1, cmap=cmap,vmin=0,vmax=2)\n",
    "    return\n"
   ]
  },
  {
   "cell_type": "code",
   "execution_count": 35,
   "metadata": {},
   "outputs": [
    {
     "name": "stdout",
     "output_type": "stream",
     "text": [
      "[[9.93012938e-01 3.08461589e-02 1.92220607e-01]\n",
      " [9.89727327e-01 3.36226006e-02 2.07200721e-01]\n",
      " [9.84920145e-01 3.66395001e-02 2.23025938e-01]\n",
      " ...\n",
      " [1.14928751e-04 8.60267656e-01 4.47865567e-01]\n",
      " [7.79141839e-05 8.70633311e-01 4.71148276e-01]\n",
      " [5.28200961e-05 8.80336980e-01 4.94557204e-01]]\n"
     ]
    },
    {
     "data": {
      "image/png": "[encoded data removed]",
      "text/plain": [
       "<Figure size 900x600 with 1 Axes>"
      ]
     },
     "metadata": {
      "needs_background": "light"
     },
     "output_type": "display_data"
    }
   ],
   "source": [
    "plot_data(x,y,c)\n",
    "plot_ovr_colors(probs)\n",
    "plt.show()"
   ]
  }
 ],
 "metadata": {
  "kernelspec": {
   "display_name": "torch_env",
   "language": "python",
   "name": "python3"
  },
  "language_info": {
   "codemirror_mode": {
    "name": "ipython",
    "version": 3
   },
   "file_extension": ".py",
   "mimetype": "text/x-python",
   "name": "python",
   "nbconvert_exporter": "python",
   "pygments_lexer": "ipython3",
   "version": "3.5.4"
  },
  "orig_nbformat": 4
 },
 "nbformat": 4,
 "nbformat_minor": 2
}
