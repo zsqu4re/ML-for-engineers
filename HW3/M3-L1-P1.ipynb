{
 "cells": [
  {
   "cell_type": "markdown",
   "metadata": {},
   "source": [
    "# M3-L1 Problem 1 (6 points)"
   ]
  },
  {
   "cell_type": "code",
   "execution_count": 1,
   "metadata": {},
   "outputs": [],
   "source": [
    "import numpy as np\n",
    "import matplotlib.pyplot as plt"
   ]
  },
  {
   "attachments": {},
   "cell_type": "markdown",
   "metadata": {},
   "source": [
    "## Sigmoid function\n",
    "\n",
    "Define a function, `sigmoid(h)`, which computes and returns the sigmoid `g(h)` given an input `h`.\n",
    "Recall the mathematical formulation of sigmoid:\n",
    "$$ g(h) = \\frac{1}{1+e^{-h}}$$"
   ]
  },
  {
   "cell_type": "code",
   "execution_count": 8,
   "metadata": {},
   "outputs": [],
   "source": [
    "def sigmoid(h):\n",
    "    # YOUR CODE GOES HERE\n",
    "    return 1/(1 + np.exp(-h))"
   ]
  },
  {
   "attachments": {},
   "cell_type": "markdown",
   "metadata": {},
   "source": [
    "## Transformation function\n",
    "In logistic regression, we transform the input before applying the sigmoid function. This transformation can take many forms, but here let's define a function `transform_quadratic(x,w)` that takes in an input `x`, and a weight vector `w`, and returns the sum $ w_0 \\cdot 1 + w_1 \\cdot x + w_2 \\cdot x^2 $."
   ]
  },
  {
   "cell_type": "code",
   "execution_count": 11,
   "metadata": {},
   "outputs": [],
   "source": [
    "def transform_quadratic(x, w):\n",
    "    # YOUR CODE GOES HERE\n",
    "\n",
    "    return w@np.array([1,x,x**2])"
   ]
  },
  {
   "attachments": {},
   "cell_type": "markdown",
   "metadata": {},
   "source": [
    "## Example\n",
    "\n",
    "Now, we will use both `sigmoid()` and `transform_quadratic()` in a logistic regression context.\n",
    "\n",
    "Suppose a logistic regression model states that:\n",
    "$$P(y=1\\;|\\;x) = g(\\textbf{w}'x),$$\n",
    "for $g(h)$ the sigmoid function and $\\textbf{w} = [4, -3, 2]$.\n",
    "\n",
    "Use the functions you wrote to compute $P(y=1\\;|\\;x=1.2)$ and $P(y=1\\;|\\;x=7)$. Print these probabilities."
   ]
  },
  {
   "cell_type": "code",
   "execution_count": 13,
   "metadata": {},
   "outputs": [
    {
     "name": "stdout",
     "output_type": "stream",
     "text": [
      "x = 1.2 --> P(y=1) = 0.9637362836253517\n",
      "x = 7.0 --> P(y=1) = 1.0\n"
     ]
    }
   ],
   "source": [
    "w = [4,-3,2]\n",
    "for x in [1.2, 7.]:\n",
    "    P = sigmoid(transform_quadratic(x,w))\n",
    "    print(f\"x = {x:3} --> P(y=1) = {P}\")"
   ]
  },
  {
   "cell_type": "code",
   "execution_count": null,
   "metadata": {},
   "outputs": [],
   "source": []
  }
 ],
 "metadata": {
  "kernelspec": {
   "display_name": "torch_env",
   "language": "python",
   "name": "python3"
  },
  "language_info": {
   "codemirror_mode": {
    "name": "ipython",
    "version": 3
   },
   "file_extension": ".py",
   "mimetype": "text/x-python",
   "name": "python",
   "nbconvert_exporter": "python",
   "pygments_lexer": "ipython3",
   "version": "3.11.9"
  },
  "orig_nbformat": 4
 },
 "nbformat": 4,
 "nbformat_minor": 2
}
