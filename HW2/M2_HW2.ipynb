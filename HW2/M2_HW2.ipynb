{
 "cells": [
  {
   "attachments": {},
   "cell_type": "markdown",
   "metadata": {},
   "source": [
    "# Porblem 2 (30 points)\n",
    "\n",
    "## Problem Description\n",
    "\n",
    "In this problem you will use linear least squares to fit a linear function to a 3D temperature field, with x,y,z locations and an associated temperature T.\n",
    "\n",
    "Fill out the notebook as instructed, making the requested plots and printing necessary values. \n",
    "\n",
    "*You are welcome to use any of the code provided in the lecture activities.*\n",
    "\n",
    "#### Summary of deliverables:\n",
    "\n",
    "Results:\n",
    "- Predicted temperature `T(5,5,5)` using a hand-coded LLS squares model with a linear function\n",
    "- Direction of travel from `(5,5,5)` to experience the greatest decrease in temperature\n",
    "\n",
    "Discussion:\n",
    "- Reasoning for how we can use our fitted function to determine the direction of greatest decrease in temperature\n",
    "\n",
    "#### Imports and Utility Functions:"
   ]
  },
  {
   "cell_type": "code",
   "execution_count": 87,
   "metadata": {},
   "outputs": [],
   "source": [
    "import numpy as np"
   ]
  },
  {
   "attachments": {},
   "cell_type": "markdown",
   "metadata": {},
   "source": [
    "## Load the data\n",
    "\n",
    "The data is contained in `tempfield.npy` and can be loaded with `np.load(tempfield.npy)`. The first three columns correspond to the `x`, `y`, and `z` locations of the data points, and the 4th column corresponds to the temperature `T` at the respective point. Store the data as you see fit."
   ]
  },
  {
   "cell_type": "code",
   "execution_count": 88,
   "metadata": {},
   "outputs": [
    {
     "name": "stdout",
     "output_type": "stream",
     "text": [
      "[[ 0  0  0 10]\n",
      " [ 8  6  1 15]\n",
      " [ 5  2  8 20]\n",
      " [ 8  2  6 22]\n",
      " [ 5  1  2 16]\n",
      " [ 3  3  3 23]\n",
      " [ 9  8  2 18]\n",
      " [ 3  6  5 19]\n",
      " [ 4  6  9 25]\n",
      " [ 1  8  2 20]\n",
      " [ 1  1  2 28]\n",
      " [ 6  4  2 27]]\n"
     ]
    }
   ],
   "source": [
    "# YORU CODE GOES HERE\n",
    "tempfield = np.load('tempfield.npy')\n",
    "print(tempfield)"
   ]
  },
  {
   "attachments": {},
   "cell_type": "markdown",
   "metadata": {},
   "source": [
    "## LLS Regression in 3D\n",
    "\n",
    "Now fit a linear function to the data using the closed form of LLS regression. Use your fitted function to report the predicted temperature at `x = 5, y = 5, z = 5`. You are free to add regularization to your model, but this is not required and will not be graded."
   ]
  },
  {
   "cell_type": "code",
   "execution_count": 89,
   "metadata": {},
   "outputs": [
    {
     "name": "stdout",
     "output_type": "stream",
     "text": [
      "[21.38907338]\n"
     ]
    }
   ],
   "source": [
    "# YOUR CODE GOES HERE\n",
    "x = tempfield[:,0]\n",
    "y = tempfield[:,1]\n",
    "z = tempfield[:,2]\n",
    "t = tempfield[:,3]\n",
    "\n",
    "import matplotlib.pyplot as plt\n",
    "from sklearn.linear_model import LinearRegression\n",
    "\n",
    "X = np.vstack([x,y,z,np.ones_like(x)]).T\n",
    "w = (np.linalg.inv(X.T @ X) @ X.T @ t).reshape(4,1) \n",
    "Xreg = np.array([5,5,5,1])\n",
    "# Treg = Xreg @ w\n",
    "\n",
    "def grad(w):\n",
    "    # YOUR CODE GOES HERE\n",
    "    # Return the gradient of the objective function\n",
    "    w_grad = 2*X.T @ (X @ w - t.reshape(-1,1))\n",
    "    return w_grad\n",
    "\n",
    "eta = 0.00025\n",
    "for i in range(101):\n",
    "\n",
    "    # YOUR CODE GOES HERE\n",
    "    # Update w\n",
    "    w = w - eta*grad(w)\n",
    "    if 0 == i%20:\n",
    "        Treg = Xreg @ w\n",
    "\n",
    "print(Treg)\n",
    "\n",
    "\n"
   ]
  },
  {
   "attachments": {},
   "cell_type": "markdown",
   "metadata": {},
   "source": [
    "## Gradient Intuition\n",
    "\n",
    "Using the function you fit in the previous part, in which direction should one move from the point `p = (5,5,5)` to experience the largest decrease in temperature in the immediate neighborhood of the point? Report the specific direction, along with your reasoning."
   ]
  },
  {
   "attachments": {},
   "cell_type": "markdown",
   "metadata": {},
   "source": [
    "### *Your answer goes here*"
   ]
  },
  {
   "cell_type": "code",
   "execution_count": 90,
   "metadata": {},
   "outputs": [
    {
     "name": "stdout",
     "output_type": "stream",
     "text": [
      "[[ 0.13421269]\n",
      " [-0.11741862]\n",
      " [-0.72677374]]\n"
     ]
    }
   ],
   "source": [
    "print(-w[:3])"
   ]
  },
  {
   "cell_type": "markdown",
   "metadata": {},
   "source": [
    "Given by the results above, going toward [0.134,-0.117,-0.726] would result in the greatest temperature drop. "
   ]
  },
  {
   "cell_type": "markdown",
   "metadata": {},
   "source": []
  }
 ],
 "metadata": {
  "kernelspec": {
   "display_name": "base",
   "language": "python",
   "name": "python3"
  },
  "language_info": {
   "codemirror_mode": {
    "name": "ipython",
    "version": 3
   },
   "file_extension": ".py",
   "mimetype": "text/x-python",
   "name": "python",
   "nbconvert_exporter": "python",
   "pygments_lexer": "ipython3",
   "version": "3.11.9"
  },
  "orig_nbformat": 4
 },
 "nbformat": 4,
 "nbformat_minor": 2
}
