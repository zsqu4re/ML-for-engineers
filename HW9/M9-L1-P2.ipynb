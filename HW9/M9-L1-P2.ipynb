{
 "cells": [
  {
   "cell_type": "markdown",
   "metadata": {},
   "source": [
    "## M9-L1 Problem 2\n",
    "\n",
    "Recall the von Mises stress prediction problem from the module 6 homework. In this problem, you will compute the $R^2$ score for a few model predictions for a single shape in this dataset. You will also plot the predicted-vs-actual stress for each model.\n"
   ]
  },
  {
   "cell_type": "code",
   "execution_count": null,
   "metadata": {},
   "outputs": [],
   "source": [
    "import numpy as np\n",
    "import matplotlib.pyplot as plt\n",
    "from sklearn.metrics import r2_score\n",
    "\n",
    "float32 = np.float32"
   ]
  },
  {
   "cell_type": "code",
   "execution_count": null,
   "metadata": {},
   "outputs": [],
   "source": [
    "xs= np.load(\"data/L1P2/xs.npy\")\n",
    "ys= np.load(\"data/L1P2/ys.npy\")\n",
    "gt = np.load(\"data/L1P2/gt.npy\")\n",
    "model1= np.load(\"data/L1P2/model1.npy\")\n",
    "model2= np.load(\"data/L1P2/model2.npy\")\n",
    "model3= np.load(\"data/L1P2/model3.npy\")"
   ]
  },
  {
   "cell_type": "markdown",
   "metadata": {},
   "source": [
    "## Visualizing data\n",
    "\n",
    "Run the following cell to load the data and visualize the 3 model predictions.\n",
    "\n",
    "- `gt` is the ground truth von Mises stress vector\n",
    "- `model1` is the vector of stress predictions for model 1\n",
    "- `model2` is the vector of stress predictions for model 2\n",
    "- `model3` is the vector of stress predictions for model 3"
   ]
  },
  {
   "cell_type": "code",
   "execution_count": null,
   "metadata": {},
   "outputs": [],
   "source": [
    "def plot_shape(x, y, stress, lims=None):\n",
    "\n",
    "    if lims is None:\n",
    "        lims = [min(stress),max(stress)]    \n",
    "\n",
    "    plt.scatter(x,y,s=5,c=stress,cmap=\"jet\",vmin=lims[0],vmax=lims[1])\n",
    "    plt.colorbar(orientation=\"horizontal\", shrink=.75, pad=0,ticks=lims)\n",
    "    plt.axis(\"off\")\n",
    "    plt.axis(\"equal\")\n",
    "\n",
    "def plot_all(x, y, gt, model1, model2, model3):\n",
    "    plt.figure(figsize=[12,3.2], dpi=120)\n",
    "    plt.subplot(141)\n",
    "    plot_shape(x, y, gt)\n",
    "    plt.title(\"Ground Truth\")\n",
    "\n",
    "    plt.subplot(142)\n",
    "    plot_shape(x, y, model1)\n",
    "    plt.title(\"Model 1\")\n",
    "\n",
    "    plt.subplot(143)\n",
    "    plot_shape(x, y, model2)\n",
    "    plt.title(\"Model 2\")\n",
    "\n",
    "    plt.subplot(144)\n",
    "    plot_shape(x, y, model3)\n",
    "    plt.title(\"Model 3\")\n",
    "\n",
    "    plt.show()\n",
    "\n",
    "plot_all(xs, ys, gt, model1, model2, model3)"
   ]
  },
  {
   "cell_type": "markdown",
   "metadata": {},
   "source": [
    "## Computing $R^2$\n",
    "\n",
    "Calculate the $R^2$ value for each model and print the results.\n"
   ]
  },
  {
   "cell_type": "code",
   "execution_count": null,
   "metadata": {},
   "outputs": [],
   "source": [
    "# YOUR CODE GOES HERE"
   ]
  },
  {
   "cell_type": "markdown",
   "metadata": {},
   "source": [
    "## Plotting predictions vs ground truth\n",
    "\n",
    "Complete the function definition below for `plot_r2(gt, pred, title)`\n",
    "\n",
    "Then create plots for all 3 models."
   ]
  },
  {
   "cell_type": "code",
   "execution_count": null,
   "metadata": {},
   "outputs": [],
   "source": [
    "def plot_r2(gt, pred, title):\n",
    "    plt.figure(figsize=[5,5])\n",
    "\n",
    "    # YOUR CODE GOES HERE\n",
    "\n",
    "    \n",
    "    plt.plot([-1000,1000], [-1000,1000],\"r--\")\n",
    "\n",
    "    all = np.concatenate([gt, pred])\n",
    "    plt.xlim(np.min(all), np.max(all))\n",
    "    plt.ylim(np.min(all), np.max(all))\n",
    "    plt.xlabel(\"Ground Truth\")\n",
    "    plt.ylabel(\"Prediction\")\n",
    "    plt.title(title)\n",
    "    plt.show()\n",
    "\n",
    "plot_r2(gt, model1,\"Model 1\")\n",
    "plot_r2(gt, model2,\"Model 2\")\n",
    "plot_r2(gt, model3,\"Model 3\")"
   ]
  },
  {
   "cell_type": "markdown",
   "metadata": {},
   "source": [
    "## Questions\n",
    "\n",
    "1. Model 2 has an $R^2$ of exactly 0. Why?  \n",
    "\n",
    "\n",
    "2. Model 3 has an $R^2$ less than 0. What does this mean?  \n"
   ]
  },
  {
   "cell_type": "markdown",
   "metadata": {},
   "source": []
  }
 ],
 "metadata": {
  "kernelspec": {
   "display_name": "Python 3 (ipykernel)",
   "language": "python",
   "name": "python3"
  },
  "language_info": {
   "codemirror_mode": {
    "name": "ipython",
    "version": 3
   },
   "file_extension": ".py",
   "mimetype": "text/x-python",
   "name": "python",
   "nbconvert_exporter": "python",
   "pygments_lexer": "ipython3",
   "version": "3.10.13"
  }
 },
 "nbformat": 4,
 "nbformat_minor": 2
}
