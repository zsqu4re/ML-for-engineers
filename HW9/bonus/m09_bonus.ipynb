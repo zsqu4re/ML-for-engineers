{
 "cells": [
  {
   "cell_type": "markdown",
   "metadata": {},
   "source": [
    "Below are some helper functions:\n",
    "\n",
    "- **`load_mnist_data()`**: Loads 28x28 images from the MNIST dataset and flattens them into 784-dimensional vectors.\n",
    "- **`show_image_from_flattened(flattened_data, index, label=None)`**: Displays the corresponding image for a given index from a set of flattened data. \n",
    "\n",
    "We define these functions and load the data in the following block."
   ]
  },
  {
   "cell_type": "code",
   "execution_count": null,
   "metadata": {},
   "outputs": [],
   "source": [
    "import matplotlib.pyplot as plt\n",
    "import torchvision\n",
    "import torchvision.transforms as transforms\n",
    "\n",
    "# Load MNIST dataset and flatten it\n",
    "def load_mnist_data():\n",
    "    # Download the MNIST dataset\n",
    "    transform = transforms.ToTensor()  # Converts images to Pytorch tensors (values between 0 and 1)\n",
    "    train_dataset = torchvision.datasets.MNIST(root='./data', train=True, download=True, transform=transform)\n",
    "    test_dataset = torchvision.datasets.MNIST(root='./data', train=False, download=True, transform=transform)\n",
    "\n",
    "    # Extract images and labels as tensors\n",
    "    train_images = train_dataset.data.float() / 255.0  # Normalize to [0, 1]\n",
    "    train_labels = train_dataset.targets\n",
    "    test_images = test_dataset.data.float() / 255.0  # Normalize to [0, 1]\n",
    "    test_labels = test_dataset.targets\n",
    "    \n",
    "    # Flatten the images from [28, 28] to [784]\n",
    "    train_images = train_images.view(train_images.shape[0], -1)  # Shape: [num_samples, 784]\n",
    "    test_images = test_images.view(test_images.shape[0], -1)      # Shape: [num_samples, 784]\n",
    "\n",
    "    return train_images, train_labels, test_images, test_labels\n",
    "\n",
    "# Function to show an image from flattened data\n",
    "def show_image_from_flattened(flattened_data, index, label=None):\n",
    "    # Reshape the 784-dimensional vector back to 28x28 to visualize the image\n",
    "    image = flattened_data[index].view(28, 28)\n",
    "    \n",
    "    plt.imshow(image, cmap='gray')\n",
    "    if label is not None:\n",
    "        plt.title(f\"Label: {label}\")\n",
    "    plt.axis('off') \n",
    "    plt.show()\n",
    "\n",
    "\n",
    "# Load MNIST dataset and flatten the images\n",
    "train_images, train_labels, test_images, test_labels = load_mnist_data()"
   ]
  },
  {
   "cell_type": "markdown",
   "metadata": {},
   "source": [
    "Your code begins here"
   ]
  }
 ],
 "metadata": {
  "kernelspec": {
   "display_name": "FNO_env",
   "language": "python",
   "name": "python3"
  },
  "language_info": {
   "name": "python",
   "version": "3.9.18"
  }
 },
 "nbformat": 4,
 "nbformat_minor": 2
}
