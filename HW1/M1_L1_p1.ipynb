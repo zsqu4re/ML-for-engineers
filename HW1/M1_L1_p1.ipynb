{
 "cells": [
  {
   "cell_type": "markdown",
   "metadata": {},
   "source": [
    "# M1-L1 Problem 1 (12 points)\n",
    "\n",
    "You are given 14 temperature measurements from 14 thermocouples in a factory. A model has produced 14 temperature predictions, one for each thermocouple. You must compute the the error vector and MSE between the predicted and measured temperatures via a few methods.\n",
    "\n",
    "Run the next cell to load the data; then proceed through the notebook.\n",
    "\n",
    "- `y_data` is $y$, a 14x1 array of temperature measurements (in deg C)\n",
    "- `y_pred` is $\\hat{y}$, a 14x1 array of temperature predictions"
   ]
  },
  {
   "cell_type": "code",
   "execution_count": 1,
   "metadata": {},
   "outputs": [
    {
     "name": "stdout",
     "output_type": "stream",
     "text": [
      "y_data = \n",
      " [[20.]\n",
      " [21.]\n",
      " [30.]\n",
      " [30.]\n",
      " [21.]\n",
      " [25.]\n",
      " [38.]\n",
      " [37.]\n",
      " [30.]\n",
      " [22.]\n",
      " [22.]\n",
      " [38.]\n",
      " [20.]\n",
      " [35.]]\n",
      "y_pred = \n",
      " [[21.]\n",
      " [21.]\n",
      " [31.]\n",
      " [30.]\n",
      " [20.]\n",
      " [28.]\n",
      " [36.]\n",
      " [32.]\n",
      " [31.]\n",
      " [20.]\n",
      " [21.]\n",
      " [39.]\n",
      " [21.]\n",
      " [34.]]\n"
     ]
    }
   ],
   "source": [
    "import numpy as np\n",
    "np.set_printoptions(precision=4)\n",
    "\n",
    "y_data = np.array([[20,21,30,30,21,25,38,37,30,22,22,38,20,35]],dtype=np.double).T\n",
    "y_pred = np.array([[21,21,31,30,20,28,36,32,31,20,21,39,21,34]],dtype=np.double).T\n",
    "\n",
    "print(\"y_data = \\n\", y_data)\n",
    "print(\"y_pred = \\n\", y_pred)"
   ]
  },
  {
   "cell_type": "markdown",
   "metadata": {},
   "source": [
    "## Error vector\n",
    "\n",
    "First, compute the error vector $y_{err} = y - \\hat{y}$. Call the result `y_err`. It should be 14x1.\n",
    "\n",
    "You may do this with a loop, or -- better yet -- by simply subtracting the two arrays."
   ]
  },
  {
   "cell_type": "code",
   "execution_count": 2,
   "metadata": {},
   "outputs": [
    {
     "name": "stdout",
     "output_type": "stream",
     "text": [
      "Size of y_err: (14, 1)\n"
     ]
    }
   ],
   "source": [
    "# YOUR CODE GOES HERE\n",
    "# Compute y_err\n",
    "\n",
    "y_err = y_pred - y_data\n",
    "\n",
    "print(\"Size of y_err:\", np.shape(y_err))"
   ]
  },
  {
   "cell_type": "markdown",
   "metadata": {},
   "source": [
    "## Mean squared error (MSE)\n",
    "\n",
    "Now compute the MSE, \n",
    "\n",
    "$$ MSE = \\frac{1}{N} \\sum_{i=1}^N (y_i - \\hat{y}_i)^2 = \\frac{1}{N} \\sum_{i=1}^N y_{err}^2 $$\n",
    "\n",
    "\n",
    "### MSE with Loop\n",
    "\n",
    "First, compute this quantity by using a for loop to loop through y_err, performing the necessary operations to compute MSE.  \n",
    "Call the result `MSE_loop`.  \n",
    "Your result should be $\\approx$ 3.5714.\n"
   ]
  },
  {
   "cell_type": "code",
   "execution_count": null,
   "metadata": {},
   "outputs": [],
   "source": [
    "# YOUR CODE GOES HERE\n",
    "# Compute MSE_loop\n",
    "\n",
    "\n",
    "print(\"MSE (loop) = \", MSE_loop)"
   ]
  },
  {
   "cell_type": "markdown",
   "metadata": {},
   "source": [
    "### MSE by matrix multiplication\n",
    "\n",
    "Another way to compute the MSE is by recognizing that the sum $ \\sum_{i=1}^N y_{err}^2 $ equals the matrix product $ y_{err}' \\cdot y_{err} $.  \n",
    "Therefore:\n",
    "$$ MSE = \\frac{1}{N} y_{err}' \\cdot y_{err} $$\n",
    "\n",
    "Compute the MSE this way. Call it `MSE_mm`, and make sure the result is the same. This is a much more efficient way of computing the MSE in Python.\n",
    "\n",
    "Note that you can compute the transpose of a 2D array `A` with `A.T`, and you can multiply matrices `A` and `B` with `A @ B`."
   ]
  },
  {
   "cell_type": "code",
   "execution_count": null,
   "metadata": {},
   "outputs": [],
   "source": [
    "# YOUR CODE GOES HERE\n",
    "# Compute MSE_mm\n",
    "\n",
    "\n",
    "print(\"MSE (matrix multiplication) = \", MSE_mm)"
   ]
  },
  {
   "cell_type": "markdown",
   "metadata": {},
   "source": [
    "### MSE by numpy mean\n",
    "\n",
    "Now you will compute the MSE once more, but using numpy operations. Use `np.mean()` to take an average. Compute the square of `y_err` with either `np.square()` or `y_err * y_err`.\n",
    "\n",
    "Call your `MSE_np`, and make sure the result is the same. This is also much more efficient than a Python for loop.\n"
   ]
  },
  {
   "cell_type": "code",
   "execution_count": null,
   "metadata": {},
   "outputs": [],
   "source": [
    "# YOUR CODE GOES HERE\n",
    "# Compute MSE_np\n",
    "\n",
    "\n",
    "print(\"MSE (Numpy) = \", MSE_np)"
   ]
  },
  {
   "cell_type": "code",
   "execution_count": 1,
   "metadata": {},
   "outputs": [
    {
     "name": "stdout",
     "output_type": "stream",
     "text": [
      "{38: 13, 28: 18, 34: 19, 16: 20, 30: 20, 0: 21, 7: 21, 15: 21, 24: 21, 3: 22, 14: 22, 20: 22, 12: 23, 18: 23, 27: 23, 1: 24, 8: 24, 10: 24, 9: 25, 21: 25, 25: 25, 36: 25, 2: 26, 4: 26, 26: 26, 11: 27, 13: 27, 22: 27, 23: 27, 31: 27, 33: 27, 37: 27, 29: 29, 6: 30, 32: 30, 5: 31, 35: 31, 17: 32, 39: 34, 19: 35}\n"
     ]
    }
   ],
   "source": [
    "\n",
    "import numpy as np\n",
    "\n",
    "\n",
    "\n",
    "player_pos = 21\n",
    "pos_count = np.zeros(40)\n",
    "turns = 1000\n",
    "dice = np.random.default_rng()\n",
    "pos = {}\n",
    "for i in range(40):\n",
    "    pos[i] = 0\n",
    "\n",
    "\n",
    "for i in range(turns):\n",
    "    steps = int(6*dice.random() + 6*dice.random())\n",
    "    player_pos += steps\n",
    "    player_pos%=40\n",
    "    pos[player_pos] += 1\n",
    "\n",
    "sorted_pos = dict(sorted(pos.items(), key=lambda item: item[1]))\n",
    "print(sorted_pos)\n"
   ]
  },
  {
   "cell_type": "code",
   "execution_count": null,
   "metadata": {},
   "outputs": [],
   "source": []
  }
 ],
 "metadata": {
  "kernelspec": {
   "display_name": "Python 3",
   "language": "python",
   "name": "python3"
  },
  "language_info": {
   "codemirror_mode": {
    "name": "ipython",
    "version": 3
   },
   "file_extension": ".py",
   "mimetype": "text/x-python",
   "name": "python",
   "nbconvert_exporter": "python",
   "pygments_lexer": "ipython3",
   "version": "3.7.4"
  }
 },
 "nbformat": 4,
 "nbformat_minor": 2
}
